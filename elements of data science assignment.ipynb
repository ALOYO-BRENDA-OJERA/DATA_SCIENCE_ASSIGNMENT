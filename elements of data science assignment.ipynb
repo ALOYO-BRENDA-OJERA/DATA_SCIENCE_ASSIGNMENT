{
 "cells": [
  {
   "cell_type": "markdown",
   "metadata": {},
   "source": [
    "SEASION 5 DATA SCIENCE \n",
    "ARRAYS, LISTS, and tuples in python"
   ]
  },
  {
   "cell_type": "code",
   "execution_count": 1,
   "metadata": {},
   "outputs": [],
   "source": [
    "# CREATING  AN ARRAY IN PYTHON- where a is the object and np means numpy\n",
    "import numpy as np\n"
   ]
  },
  {
   "cell_type": "markdown",
   "metadata": {},
   "source": [
    "creating an array in python"
   ]
  },
  {
   "cell_type": "code",
   "execution_count": 5,
   "metadata": {},
   "outputs": [],
   "source": [
    "a = np.array ([0,1,2,3])\n",
    "#note: np means numpy ;ibrary,dot (.)-means call array\n"
   ]
  },
  {
   "cell_type": "code",
   "execution_count": 7,
   "metadata": {},
   "outputs": [
    {
     "data": {
      "text/plain": [
       "numpy.ndarray"
      ]
     },
     "execution_count": 7,
     "metadata": {},
     "output_type": "execute_result"
    }
   ],
   "source": [
    "# check the array type \n",
    "type(a)# checks the type of an array.\n"
   ]
  },
  {
   "cell_type": "code",
   "execution_count": 8,
   "metadata": {},
   "outputs": [
    {
     "data": {
      "text/plain": [
       "[1, 2, 3, 4]"
      ]
     },
     "execution_count": 8,
     "metadata": {},
     "output_type": "execute_result"
    }
   ],
   "source": [
    "[1,2,3,4]"
   ]
  },
  {
   "cell_type": "code",
   "execution_count": 1,
   "metadata": {},
   "outputs": [],
   "source": [
    "TUPLE = 1,2,3,4,5 #how to create a tuple\n"
   ]
  },
  {
   "cell_type": "code",
   "execution_count": 2,
   "metadata": {},
   "outputs": [
    {
     "name": "stdout",
     "output_type": "stream",
     "text": [
      "(1, 2, 3, 4, 5)\n"
     ]
    }
   ],
   "source": [
    "print(TUPLE)"
   ]
  },
  {
   "cell_type": "markdown",
   "metadata": {},
   "source": [
    "ONCE CREATED, A TUPLE CANNOT BE CHANGED"
   ]
  },
  {
   "cell_type": "markdown",
   "metadata": {},
   "source": [
    "you dont need to be online for jupyter to work"
   ]
  },
  {
   "cell_type": "code",
   "execution_count": 1,
   "metadata": {},
   "outputs": [
    {
     "name": "stdout",
     "output_type": "stream",
     "text": [
      "['cows', 'goat', 'sheep', 'pig']\n"
     ]
    }
   ],
   "source": [
    "list = ([\"cows\",\"goat\",\"sheep\",\"pig\"])#creating a list\n",
    "print(list)\n"
   ]
  },
  {
   "cell_type": "code",
   "execution_count": 2,
   "metadata": {},
   "outputs": [
    {
     "name": "stdout",
     "output_type": "stream",
     "text": [
      "<class 'list'>\n"
     ]
    }
   ],
   "source": [
    "print(type(list))"
   ]
  },
  {
   "cell_type": "code",
   "execution_count": 3,
   "metadata": {},
   "outputs": [
    {
     "name": "stdout",
     "output_type": "stream",
     "text": [
      "4\n"
     ]
    }
   ],
   "source": [
    "print(len(list))"
   ]
  },
  {
   "cell_type": "code",
   "execution_count": 70,
   "metadata": {},
   "outputs": [
    {
     "name": "stdout",
     "output_type": "stream",
     "text": [
      "<class 'list'>\n"
     ]
    }
   ],
   "source": [
    "kfc=([7.5,5,4.4,3.75,2.25])\n",
    "print(type(kfc))"
   ]
  },
  {
   "cell_type": "code",
   "execution_count": 71,
   "metadata": {},
   "outputs": [],
   "source": [
    "cjs=([9.99,7.99,7.49,7.00,6.29])"
   ]
  },
  {
   "cell_type": "code",
   "execution_count": 72,
   "metadata": {},
   "outputs": [
    {
     "name": "stdout",
     "output_type": "stream",
     "text": [
      "[7.5, 5, 4.4, 3.75, 2.25, 9.99, 7.99, 7.49, 7.0, 6.29]\n"
     ]
    }
   ],
   "source": [
    "a=(kfc+cjs)\n",
    "print(a)"
   ]
  },
  {
   "cell_type": "code",
   "execution_count": 96,
   "metadata": {},
   "outputs": [
    {
     "ename": "NameError",
     "evalue": "name 'cjs_list' is not defined",
     "output_type": "error",
     "traceback": [
      "\u001b[1;31m---------------------------------------------------------------------------\u001b[0m",
      "\u001b[1;31mNameError\u001b[0m                                 Traceback (most recent call last)",
      "\u001b[1;32mc:\\Users\\AND1\\Desktop\\WITIC3\\YEAR ONE\\SEMESTER ONE\\DATA SCIENVE ASSIGNMENTS\\NOTES\\notes\\elements of data science.ipynb Cell 17\u001b[0m line \u001b[0;36m3\n\u001b[0;32m      <a href='vscode-notebook-cell:/c%3A/Users/AND1/Desktop/WITIC3/YEAR%20ONE/SEMESTER%20ONE/DATA%20SCIENVE%20ASSIGNMENTS/NOTES/notes/elements%20of%20data%20science.ipynb#X22sZmlsZQ%3D%3D?line=0'>1</a>\u001b[0m cjs\u001b[39m=\u001b[39m([\u001b[39m9.99\u001b[39m,\u001b[39m7.99\u001b[39m,\u001b[39m7.49\u001b[39m,\u001b[39m7.00\u001b[39m,\u001b[39m6.29\u001b[39m])\n\u001b[0;32m      <a href='vscode-notebook-cell:/c%3A/Users/AND1/Desktop/WITIC3/YEAR%20ONE/SEMESTER%20ONE/DATA%20SCIENVE%20ASSIGNMENTS/NOTES/notes/elements%20of%20data%20science.ipynb#X22sZmlsZQ%3D%3D?line=1'>2</a>\u001b[0m kfc\u001b[39m=\u001b[39m([\u001b[39m7.5\u001b[39m,\u001b[39m5\u001b[39m,\u001b[39m4.4\u001b[39m,\u001b[39m3.75\u001b[39m,\u001b[39m2.25\u001b[39m])\n\u001b[1;32m----> <a href='vscode-notebook-cell:/c%3A/Users/AND1/Desktop/WITIC3/YEAR%20ONE/SEMESTER%20ONE/DATA%20SCIENVE%20ASSIGNMENTS/NOTES/notes/elements%20of%20data%20science.ipynb#X22sZmlsZQ%3D%3D?line=2'>3</a>\u001b[0m difference\u001b[39m=\u001b[39m(cjs_list\u001b[39m-\u001b[39mkfc_list)\n\u001b[0;32m      <a href='vscode-notebook-cell:/c%3A/Users/AND1/Desktop/WITIC3/YEAR%20ONE/SEMESTER%20ONE/DATA%20SCIENVE%20ASSIGNMENTS/NOTES/notes/elements%20of%20data%20science.ipynb#X22sZmlsZQ%3D%3D?line=3'>4</a>\u001b[0m \u001b[39mprint\u001b[39m(difference)\n",
      "\u001b[1;31mNameError\u001b[0m: name 'cjs_list' is not defined"
     ]
    }
   ],
   "source": [
    "\n",
    "cjs=([9.99,7.99,7.49,7.00,6.29])\n",
    "kfc=([7.5,5,4.4,3.75,2.25])\n",
    "difference=\n",
    "print(difference)"
   ]
  },
  {
   "cell_type": "code",
   "execution_count": 74,
   "metadata": {},
   "outputs": [
    {
     "name": "stdout",
     "output_type": "stream",
     "text": [
      "<class 'list'>\n",
      "5\n"
     ]
    }
   ],
   "source": [
    "kfc=([7.5,5,4.4,3.75,2.25])\n",
    "print(type(kfc))\n",
    "print(len(kfc))"
   ]
  },
  {
   "cell_type": "code",
   "execution_count": 87,
   "metadata": {},
   "outputs": [
    {
     "name": "stdout",
     "output_type": "stream",
     "text": [
      "<class 'type'>\n",
      "5\n"
     ]
    }
   ],
   "source": [
    "cjs=([9.99,7.99,7.49,7.00,6.29])\n",
    "print(type(type))\n",
    "print(len(cjs))"
   ]
  },
  {
   "cell_type": "code",
   "execution_count": 88,
   "metadata": {},
   "outputs": [],
   "source": [
    "#changin a list to an array\n",
    "import numpy as np"
   ]
  },
  {
   "cell_type": "code",
   "execution_count": 89,
   "metadata": {},
   "outputs": [],
   "source": [
    "cjs_array=np.array(cjs)"
   ]
  },
  {
   "cell_type": "code",
   "execution_count": 90,
   "metadata": {},
   "outputs": [
    {
     "data": {
      "text/plain": [
       "dtype('float64')"
      ]
     },
     "execution_count": 90,
     "metadata": {},
     "output_type": "execute_result"
    }
   ],
   "source": [
    "cjs_array.dtype"
   ]
  },
  {
   "cell_type": "code",
   "execution_count": 91,
   "metadata": {},
   "outputs": [],
   "source": [
    "kfc_arrays=np.array(kfc)"
   ]
  },
  {
   "cell_type": "code",
   "execution_count": 92,
   "metadata": {},
   "outputs": [
    {
     "name": "stdout",
     "output_type": "stream",
     "text": [
      "[2.49 2.99 3.09 3.25 4.04]\n"
     ]
    }
   ],
   "source": [
    "difference=cjs_array-kfc_arrays\n",
    "print(difference)"
   ]
  },
  {
   "cell_type": "code",
   "execution_count": 94,
   "metadata": {},
   "outputs": [
    {
     "data": {
      "text/plain": [
       "3.1719999999999997"
      ]
     },
     "execution_count": 94,
     "metadata": {},
     "output_type": "execute_result"
    }
   ],
   "source": [
    "np.mean(difference)\n"
   ]
  },
  {
   "cell_type": "code",
   "execution_count": 98,
   "metadata": {},
   "outputs": [
    {
     "name": "stdout",
     "output_type": "stream",
     "text": [
      "3.1719999999999997\n"
     ]
    }
   ],
   "source": [
    "difference=np.mean(cjs_array)-np.mean(kfc_arrays)#method 2 of findind mean diff.\n",
    "print(difference)"
   ]
  },
  {
   "cell_type": "code",
   "execution_count": 100,
   "metadata": {},
   "outputs": [
    {
     "data": {
      "text/plain": [
       "1.251948880745536"
      ]
     },
     "execution_count": 100,
     "metadata": {},
     "output_type": "execute_result"
    }
   ],
   "source": [
    "np.std(cjs_array)"
   ]
  },
  {
   "cell_type": "code",
   "execution_count": 101,
   "metadata": {},
   "outputs": [
    {
     "data": {
      "text/plain": [
       "1.7235428628264513"
      ]
     },
     "execution_count": 101,
     "metadata": {},
     "output_type": "execute_result"
    }
   ],
   "source": [
    "np.std(kfc_arrays)"
   ]
  },
  {
   "cell_type": "code",
   "execution_count": 99,
   "metadata": {},
   "outputs": [
    {
     "data": {
      "text/plain": [
       "0.0"
      ]
     },
     "execution_count": 99,
     "metadata": {},
     "output_type": "execute_result"
    }
   ],
   "source": [
    "#for standard deviation\n",
    "np.std(difference)"
   ]
  },
  {
   "cell_type": "markdown",
   "metadata": {},
   "source": [
    "summary statistics\n",
    "mean\n",
    "standard deviation\n",
    "variance\n",
    "skewess\n",
    "kurtosis"
   ]
  }
 ],
 "metadata": {
  "kernelspec": {
   "display_name": "Python 3",
   "language": "python",
   "name": "python3"
  },
  "language_info": {
   "codemirror_mode": {
    "name": "ipython",
    "version": 3
   },
   "file_extension": ".py",
   "mimetype": "text/x-python",
   "name": "python",
   "nbconvert_exporter": "python",
   "pygments_lexer": "ipython3",
   "version": "3.11.4"
  },
  "orig_nbformat": 4
 },
 "nbformat": 4,
 "nbformat_minor": 2
}
